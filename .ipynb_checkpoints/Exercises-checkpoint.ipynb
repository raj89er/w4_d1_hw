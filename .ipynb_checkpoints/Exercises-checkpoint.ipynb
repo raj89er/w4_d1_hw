{
 "cells": [
  {
   "cell_type": "code",
   "execution_count": 3,
   "metadata": {},
   "outputs": [],
   "source": [
    "import re"
   ]
  },
  {
   "cell_type": "markdown",
   "metadata": {},
   "source": [
    "### Exercise 1"
   ]
  },
  {
   "cell_type": "markdown",
   "metadata": {},
   "source": [
    "Write a function that takes in a tweet and returns a list of the hashtags in the tweet<br>\n",
    "Ex. 1<br>\n",
    "tweet = \"Python is the best #Python #Programming #CodingTemple\"<br>\n",
    "Expected Output: [\"#Python\", \"#Programming\", \"#CodingTemple\"]<br>\n",
    "\n",
    "Ex. 2<br>\n",
    "tweet = \"I love my life! #blessed\"<br>\n",
    "Expected Output: [\"#bleesed\"]<br>\n",
    "\n",
    "Ex. 3<br>\n",
    "tweet = \"Bear Down\"<br>\n",
    "Expected Output: []<br>\n"
   ]
  },
  {
   "cell_type": "code",
   "execution_count": 20,
   "metadata": {},
   "outputs": [
    {
     "name": "stdout",
     "output_type": "stream",
     "text": [
      "['#Python', '#Programming', '#CodingTemple']\n"
     ]
    }
   ],
   "source": [
    "# tweet = \"I love my life! #blessed\"\n",
    "# tweet = \"Bear Down\"\n",
    "tweet = \"Python is the best #Python #Programming #CodingTemple\"\n",
    "\n",
    "def htags(tweet):\n",
    "    pattern = re.compile(r'#\\w+')\n",
    "    matches = pattern.findall(tweet)\n",
    "    return matches\n",
    "\n",
    "handle = htags(tweet)\n",
    "print(handle)\n"
   ]
  },
  {
   "cell_type": "code",
   "execution_count": 21,
   "metadata": {},
   "outputs": [
    {
     "name": "stdout",
     "output_type": "stream",
     "text": [
      "[['#Python', '#Programming', '#CodingTemple'], ['#blessed'], []]\n"
     ]
    }
   ],
   "source": [
    "tweets = [\"Python is the best #Python #Programming #CodingTemple\" , \"I love my life! #blessed\" , \"Bear Down\"]\n",
    "\n",
    "def htags(tweet):\n",
    "    pattern = re.compile(r'#\\w+')\n",
    "    matches = pattern.findall(tweet)\n",
    "    return matches\n",
    "\n",
    "handle = [htags(tweet) for tweet in tweets]\n",
    "print(handle)\n"
   ]
  },
  {
   "cell_type": "markdown",
   "metadata": {},
   "source": [
    "### Exercise 2"
   ]
  },
  {
   "cell_type": "markdown",
   "metadata": {},
   "source": [
    "Develop a regular expression to validate a username. The username should start with a letter, followed by any combination of letters, numbers, underscores, and dots. It should be between 3 and 16 characters long<br>\n",
    "Ex. 1 <br>\n",
    "username = \"CodingTemple123\"<br>\n",
    "Expected Output: True<br>\n",
    "\n",
    "Ex. 2 <br>\n",
    "username = \"1love\"<br>\n",
    "Expected Output: False<br>\n",
    "\n",
    "Ex. 3 <br>\n",
    "username = \"CT\"<br>\n",
    "Expected Output: False<br>\n",
    "\n",
    "Ex. 4 <br>\n",
    "username = \"This_is_a_username_that_I_would_like_to_use\"<br>\n",
    "Expected Output: False<br>\n",
    "\n",
    "Ex. 5 <br>\n",
    "username = \"brian_ct123\"<br>\n",
    "Expected Output: True<br>"
   ]
  },
  {
   "cell_type": "code",
   "execution_count": 34,
   "metadata": {},
   "outputs": [
    {
     "name": "stdout",
     "output_type": "stream",
     "text": [
      "\"brian_ct123\" seems cool to use.\n"
     ]
    }
   ],
   "source": [
    "# username = \"CodingTemple123\"\n",
    "# username = \"1love\"\n",
    "# username = \"CT\"\n",
    "# username = \"This_is_a_username_that_I_would_like_to_use\"\n",
    "username = \"brian_ct123\"\n",
    "\n",
    "def val_usr(username):\n",
    "    pattern = r\"^[a-zA-Z][a-zA-Z0-9._]{2,15}$\"\n",
    "    result = re.match(pattern, username)\n",
    "    if result:\n",
    "        return True\n",
    "    return False\n",
    "\n",
    "if val_usr(username):\n",
    "    print(f'\"{username}\" seems cool to use.')\n",
    "else:\n",
    "    print(f'\"{username}\" is invalid. Please follow the criteria')\n"
   ]
  },
  {
   "cell_type": "code",
   "execution_count": 35,
   "metadata": {
    "scrolled": true
   },
   "outputs": [
    {
     "name": "stdout",
     "output_type": "stream",
     "text": [
      "\"CodingTemple123\" seems cool to use.\n",
      "\"1love\" is invalid. Please follow the criteria\n",
      "\"CT\" is invalid. Please follow the criteria\n",
      "\"This_is_a_username_that_I_would_like_to_use\" is invalid. Please follow the criteria\n",
      "\"brian_ct123\" seems cool to use.\n"
     ]
    }
   ],
   "source": [
    "\n",
    "usernames = [\"CodingTemple123\" , \"1love\", \"CT\" , \"This_is_a_username_that_I_would_like_to_use\" , \"brian_ct123\"]\n",
    "\n",
    "def val_usr(username):\n",
    "    pattern = r\"^[a-zA-Z][a-zA-Z0-9._]{2,15}$\"\n",
    "    result = re.match(pattern, username)\n",
    "    if result:\n",
    "        return True\n",
    "    return False\n",
    "\n",
    "for username in usernames:\n",
    "    if val_usr(username):\n",
    "        print(f'\"{username}\" seems cool to use.')\n",
    "    else:\n",
    "        print(f'\"{username}\" is invalid. Please follow the criteria')\n",
    "\n"
   ]
  },
  {
   "cell_type": "markdown",
   "metadata": {},
   "source": [
    "### Exercise 3"
   ]
  },
  {
   "cell_type": "markdown",
   "metadata": {},
   "source": [
    "Using the Python `open()` function, read in the `example.txt` file (attached in Google Classroom, make sure it is in the same folder as this notebook). Create a pattern that will find all of the dates in the text. Dates are in the format of YYYY-MM-DD. The pattern should have groups for year, month, and day. Using the `.finditer()` method, iterate over the dates and print in format of month/day/year<br>"
   ]
  },
  {
   "cell_type": "markdown",
   "metadata": {},
   "source": [
    "Output:\n",
    "```\n",
    "05/15/1990\n",
    "09/20/2015\n",
    "12/03/1985\n",
    "06/18/2010\n",
    "11/30/2002\n",
    "08/10/1978\n",
    "04/25/1992\n",
    "07/07/2019\n",
    "02/12/1980\n",
    "03/22/2005\n",
    "```"
   ]
  },
  {
   "cell_type": "code",
   "execution_count": null,
   "metadata": {},
   "outputs": [],
   "source": []
  }
 ],
 "metadata": {
  "kernelspec": {
   "display_name": "Python 3 (ipykernel)",
   "language": "python",
   "name": "python3"
  },
  "language_info": {
   "codemirror_mode": {
    "name": "ipython",
    "version": 3
   },
   "file_extension": ".py",
   "mimetype": "text/x-python",
   "name": "python",
   "nbconvert_exporter": "python",
   "pygments_lexer": "ipython3",
   "version": "3.11.7"
  }
 },
 "nbformat": 4,
 "nbformat_minor": 4
}
